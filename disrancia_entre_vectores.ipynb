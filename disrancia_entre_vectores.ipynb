{
 "metadata": {
  "language_info": {
   "codemirror_mode": {
    "name": "ipython",
    "version": 3
   },
   "file_extension": ".py",
   "mimetype": "text/x-python",
   "name": "python",
   "nbconvert_exporter": "python",
   "pygments_lexer": "ipython3",
   "version": "3.8.8"
  },
  "orig_nbformat": 2,
  "kernelspec": {
   "name": "python388jvsc74a57bd0c72a629dba5ae9edebcad565c17c3988d814021371aabb3db62cb04d2b10dbfe",
   "display_name": "Python 3.8.8 64-bit ('base': conda)"
  }
 },
 "nbformat": 4,
 "nbformat_minor": 2,
 "cells": [
  {
   "source": [
    "# Distancia y Norma"
   ],
   "cell_type": "markdown",
   "metadata": {}
  },
  {
   "cell_type": "code",
   "execution_count": 1,
   "metadata": {},
   "outputs": [],
   "source": [
    "import numpy as np"
   ]
  },
  {
   "cell_type": "code",
   "execution_count": 2,
   "metadata": {},
   "outputs": [],
   "source": [
    "u = np.array((1,1))"
   ]
  },
  {
   "cell_type": "code",
   "execution_count": 3,
   "metadata": {},
   "outputs": [],
   "source": [
    "def norma(x):\n",
    "    return np.sqrt(x@x)"
   ]
  },
  {
   "cell_type": "code",
   "execution_count": 4,
   "metadata": {},
   "outputs": [
    {
     "output_type": "execute_result",
     "data": {
      "text/plain": [
       "1.4142135623730951"
      ]
     },
     "metadata": {},
     "execution_count": 4
    }
   ],
   "source": [
    "norma(u)"
   ]
  },
  {
   "cell_type": "code",
   "execution_count": 5,
   "metadata": {},
   "outputs": [
    {
     "output_type": "execute_result",
     "data": {
      "text/plain": [
       "2.8284271247461903"
      ]
     },
     "metadata": {},
     "execution_count": 5
    }
   ],
   "source": [
    "norma(2*u)"
   ]
  },
  {
   "cell_type": "code",
   "execution_count": 6,
   "metadata": {},
   "outputs": [
    {
     "output_type": "execute_result",
     "data": {
      "text/plain": [
       "2.8284271247461903"
      ]
     },
     "metadata": {},
     "execution_count": 6
    }
   ],
   "source": [
    "2*norma(u)"
   ]
  },
  {
   "cell_type": "code",
   "execution_count": 7,
   "metadata": {},
   "outputs": [],
   "source": [
    "v = np.array((-1,1))"
   ]
  },
  {
   "cell_type": "code",
   "execution_count": 8,
   "metadata": {},
   "outputs": [
    {
     "output_type": "stream",
     "name": "stdout",
     "text": [
      "||u+v|| = 2.0\n"
     ]
    }
   ],
   "source": [
    "print(f'||u+v|| = {norma(u+v)}')"
   ]
  },
  {
   "cell_type": "code",
   "execution_count": 9,
   "metadata": {},
   "outputs": [
    {
     "output_type": "stream",
     "name": "stdout",
     "text": [
      "||v|| = 1.4142135623730951\n"
     ]
    }
   ],
   "source": [
    "print(f'||v|| = {norma(v)}')"
   ]
  },
  {
   "cell_type": "code",
   "execution_count": 10,
   "metadata": {},
   "outputs": [
    {
     "output_type": "stream",
     "name": "stdout",
     "text": [
      "¿Es verdad que ||u+v|| menor o igual que  ||u||+||v|| True\n"
     ]
    }
   ],
   "source": [
    "print(f'¿Es verdad que ||u+v|| menor o igual que  ||u||+||v|| {norma(u+v) <= norma(v)+norma(u)}')"
   ]
  },
  {
   "source": [
    "## Distancia entre vectores"
   ],
   "cell_type": "markdown",
   "metadata": {}
  },
  {
   "cell_type": "code",
   "execution_count": 11,
   "metadata": {},
   "outputs": [],
   "source": [
    "a = np.array((1,1))\n",
    "b = np.array((-2,3))"
   ]
  },
  {
   "cell_type": "code",
   "execution_count": 12,
   "metadata": {},
   "outputs": [
    {
     "output_type": "execute_result",
     "data": {
      "text/plain": [
       "array([ 3, -2])"
      ]
     },
     "metadata": {},
     "execution_count": 12
    }
   ],
   "source": [
    "c = a - b\n",
    "c"
   ]
  },
  {
   "cell_type": "code",
   "execution_count": 13,
   "metadata": {},
   "outputs": [
    {
     "output_type": "execute_result",
     "data": {
      "text/plain": [
       "3.605551275463989"
      ]
     },
     "metadata": {},
     "execution_count": 13
    }
   ],
   "source": [
    "norma(a-b)"
   ]
  },
  {
   "cell_type": "code",
   "execution_count": 14,
   "metadata": {},
   "outputs": [
    {
     "output_type": "execute_result",
     "data": {
      "text/plain": [
       "3.605551275463989"
      ]
     },
     "metadata": {},
     "execution_count": 14
    }
   ],
   "source": [
    "np.linalg.norm(a-b)"
   ]
  },
  {
   "source": [
    "## Aplicación - Búsqueda de departamento"
   ],
   "cell_type": "markdown",
   "metadata": {}
  },
  {
   "cell_type": "code",
   "execution_count": 24,
   "metadata": {},
   "outputs": [],
   "source": [
    "# Declarar nuestros arrays\n",
    "I = np.array([3,2,2,1])\n",
    "A_1 = np.array([4,3,3,3])\n",
    "A_2 = np.array([3,3,2,1])\n",
    "A_3 = np.array([5,4,3,0])"
   ]
  },
  {
   "cell_type": "code",
   "execution_count": 25,
   "metadata": {},
   "outputs": [
    {
     "output_type": "stream",
     "name": "stdout",
     "text": [
      "||I-A_1|| = 2.6457513110645907\n||I-A_2|| = 1.0\n||I-A_3|| = 3.1622776601683795\n"
     ]
    }
   ],
   "source": [
    "print(f'||I-A_1|| = {np.linalg.norm(I-A_1)}')\n",
    "print(f'||I-A_2|| = {np.linalg.norm(I-A_2)}')\n",
    "print(f'||I-A_3|| = {np.linalg.norm(I-A_3)}')"
   ]
  },
  {
   "cell_type": "code",
   "execution_count": null,
   "metadata": {},
   "outputs": [],
   "source": []
  }
 ]
}