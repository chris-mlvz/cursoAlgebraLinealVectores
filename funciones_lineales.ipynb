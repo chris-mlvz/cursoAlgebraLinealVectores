{
 "metadata": {
  "language_info": {
   "codemirror_mode": {
    "name": "ipython",
    "version": 3
   },
   "file_extension": ".py",
   "mimetype": "text/x-python",
   "name": "python",
   "nbconvert_exporter": "python",
   "pygments_lexer": "ipython3",
   "version": "3.8.8"
  },
  "orig_nbformat": 2,
  "kernelspec": {
   "name": "python388jvsc74a57bd0c72a629dba5ae9edebcad565c17c3988d814021371aabb3db62cb04d2b10dbfe",
   "display_name": "Python 3.8.8 64-bit ('base': conda)"
  }
 },
 "nbformat": 4,
 "nbformat_minor": 2,
 "cells": [
  {
   "source": [
    "# Funciones lineales"
   ],
   "cell_type": "markdown",
   "metadata": {}
  },
  {
   "cell_type": "code",
   "execution_count": 92,
   "metadata": {},
   "outputs": [],
   "source": [
    "import numpy as np"
   ]
  },
  {
   "cell_type": "code",
   "execution_count": 93,
   "metadata": {},
   "outputs": [],
   "source": [
    "def f(x):\n",
    "    return np.sum(x)"
   ]
  },
  {
   "cell_type": "code",
   "execution_count": 94,
   "metadata": {},
   "outputs": [
    {
     "output_type": "stream",
     "name": "stdout",
     "text": [
      "f(0) =  0\n"
     ]
    }
   ],
   "source": [
    "print('f(0) = ', f(np.array((0,0,0,0))))"
   ]
  },
  {
   "cell_type": "code",
   "execution_count": 95,
   "metadata": {},
   "outputs": [
    {
     "output_type": "stream",
     "name": "stdout",
     "text": [
      "f([1,0,0,0]) =  1\n"
     ]
    }
   ],
   "source": [
    "print('f([1,0,0,0]) = ', f(np.array((1,0,0,0))))"
   ]
  },
  {
   "cell_type": "code",
   "execution_count": 96,
   "metadata": {},
   "outputs": [
    {
     "output_type": "stream",
     "name": "stdout",
     "text": [
      "f([1,1,1,1]) =  4\n"
     ]
    }
   ],
   "source": [
    "print('f([1,1,1,1]) = ', f(np.array((1,1,1,1))))"
   ]
  },
  {
   "cell_type": "code",
   "execution_count": 97,
   "metadata": {},
   "outputs": [],
   "source": [
    "def g(x):\n",
    "    return x[0]"
   ]
  },
  {
   "cell_type": "code",
   "execution_count": 98,
   "metadata": {},
   "outputs": [
    {
     "output_type": "stream",
     "name": "stdout",
     "text": [
      "g(0) =  0\n"
     ]
    }
   ],
   "source": [
    "print('g(0) = ', g(np.array((0,0,0,0))))"
   ]
  },
  {
   "cell_type": "code",
   "execution_count": 99,
   "metadata": {},
   "outputs": [
    {
     "output_type": "stream",
     "name": "stdout",
     "text": [
      "g([0,0,1]) =  0\n"
     ]
    }
   ],
   "source": [
    "print('g([0,0,1]) = ', g(np.array((0,0,1))))"
   ]
  },
  {
   "cell_type": "code",
   "execution_count": 100,
   "metadata": {},
   "outputs": [
    {
     "output_type": "stream",
     "name": "stdout",
     "text": [
      "g([1,0,4]) =  1\n"
     ]
    }
   ],
   "source": [
    "print('g([1,0,4]) = ', g(np.array((1,0,4))))"
   ]
  },
  {
   "source": [
    "## Comprobación de superposición y linealidad"
   ],
   "cell_type": "markdown",
   "metadata": {}
  },
  {
   "source": [
    "* Función f(x)"
   ],
   "cell_type": "markdown",
   "metadata": {}
  },
  {
   "cell_type": "code",
   "execution_count": 101,
   "metadata": {},
   "outputs": [],
   "source": [
    "a = np.array((1,1,1,1))\n",
    "b = np.array((1,0,1,0))\n",
    "x,y = 1,-2"
   ]
  },
  {
   "cell_type": "code",
   "execution_count": 102,
   "metadata": {},
   "outputs": [
    {
     "output_type": "execute_result",
     "data": {
      "text/plain": [
       "array([-1,  1, -1,  1])"
      ]
     },
     "metadata": {},
     "execution_count": 102
    }
   ],
   "source": [
    "x*a + y*b"
   ]
  },
  {
   "cell_type": "code",
   "execution_count": 103,
   "metadata": {},
   "outputs": [
    {
     "output_type": "stream",
     "name": "stdout",
     "text": [
      "f(x*a +y*b) =  0\n"
     ]
    }
   ],
   "source": [
    "print('f(x*a +y*b) = ', f(x*a + y*b))"
   ]
  },
  {
   "cell_type": "code",
   "execution_count": 104,
   "metadata": {},
   "outputs": [
    {
     "output_type": "stream",
     "name": "stdout",
     "text": [
      "x*f(a) +y*f(b) =  0\n"
     ]
    }
   ],
   "source": [
    "print('x*f(a) +y*f(b) = ', x*f(a)+y*f(b))"
   ]
  },
  {
   "source": [
    "* Función g(x)"
   ],
   "cell_type": "markdown",
   "metadata": {}
  },
  {
   "cell_type": "code",
   "execution_count": 105,
   "metadata": {},
   "outputs": [
    {
     "output_type": "stream",
     "name": "stdout",
     "text": [
      "g(x*a +y*b) =  -1\n"
     ]
    }
   ],
   "source": [
    "print('g(x*a +y*b) = ', g(x*a + y*b))"
   ]
  },
  {
   "cell_type": "code",
   "execution_count": 106,
   "metadata": {},
   "outputs": [
    {
     "output_type": "stream",
     "name": "stdout",
     "text": [
      "x*g(a) +y*g(b) =  -1\n"
     ]
    }
   ],
   "source": [
    "print('x*g(a) +y*g(b) = ', x*g(a)+y*g(b))"
   ]
  },
  {
   "cell_type": "code",
   "execution_count": null,
   "metadata": {},
   "outputs": [],
   "source": []
  }
 ]
}