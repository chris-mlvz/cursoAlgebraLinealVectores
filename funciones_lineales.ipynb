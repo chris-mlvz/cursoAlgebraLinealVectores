{
 "metadata": {
  "language_info": {
   "codemirror_mode": {
    "name": "ipython",
    "version": 3
   },
   "file_extension": ".py",
   "mimetype": "text/x-python",
   "name": "python",
   "nbconvert_exporter": "python",
   "pygments_lexer": "ipython3",
   "version": "3.8.8"
  },
  "orig_nbformat": 2,
  "kernelspec": {
   "name": "python388jvsc74a57bd0c72a629dba5ae9edebcad565c17c3988d814021371aabb3db62cb04d2b10dbfe",
   "display_name": "Python 3.8.8 64-bit ('base': conda)"
  }
 },
 "nbformat": 4,
 "nbformat_minor": 2,
 "cells": [
  {
   "source": [
    "# Funciones lineales"
   ],
   "cell_type": "markdown",
   "metadata": {}
  },
  {
   "cell_type": "code",
   "execution_count": 108,
   "metadata": {},
   "outputs": [],
   "source": [
    "import numpy as np"
   ]
  },
  {
   "cell_type": "code",
   "execution_count": 109,
   "metadata": {},
   "outputs": [],
   "source": [
    "def f(x):\n",
    "    return np.sum(x)"
   ]
  },
  {
   "cell_type": "code",
   "execution_count": 110,
   "metadata": {},
   "outputs": [
    {
     "output_type": "stream",
     "name": "stdout",
     "text": [
      "f(0) =  0\n"
     ]
    }
   ],
   "source": [
    "print('f(0) = ', f(np.array((0,0,0,0))))"
   ]
  },
  {
   "cell_type": "code",
   "execution_count": 111,
   "metadata": {},
   "outputs": [
    {
     "output_type": "stream",
     "name": "stdout",
     "text": [
      "f([1,0,0,0]) =  1\n"
     ]
    }
   ],
   "source": [
    "print('f([1,0,0,0]) = ', f(np.array((1,0,0,0))))"
   ]
  },
  {
   "cell_type": "code",
   "execution_count": 112,
   "metadata": {},
   "outputs": [
    {
     "output_type": "stream",
     "name": "stdout",
     "text": [
      "f([1,1,1,1]) =  4\n"
     ]
    }
   ],
   "source": [
    "print('f([1,1,1,1]) = ', f(np.array((1,1,1,1))))"
   ]
  },
  {
   "cell_type": "code",
   "execution_count": 113,
   "metadata": {},
   "outputs": [],
   "source": [
    "def g(x):\n",
    "    return x[0]"
   ]
  },
  {
   "cell_type": "code",
   "execution_count": 114,
   "metadata": {},
   "outputs": [
    {
     "output_type": "stream",
     "name": "stdout",
     "text": [
      "g(0) =  0\n"
     ]
    }
   ],
   "source": [
    "print('g(0) = ', g(np.array((0,0,0,0))))"
   ]
  },
  {
   "cell_type": "code",
   "execution_count": 115,
   "metadata": {},
   "outputs": [
    {
     "output_type": "stream",
     "name": "stdout",
     "text": [
      "g([0,0,1]) =  0\n"
     ]
    }
   ],
   "source": [
    "print('g([0,0,1]) = ', g(np.array((0,0,1))))"
   ]
  },
  {
   "cell_type": "code",
   "execution_count": 116,
   "metadata": {},
   "outputs": [
    {
     "output_type": "stream",
     "name": "stdout",
     "text": [
      "g([1,0,4]) =  1\n"
     ]
    }
   ],
   "source": [
    "print('g([1,0,4]) = ', g(np.array((1,0,4))))"
   ]
  },
  {
   "source": [
    "## Comprobación de superposición y linealidad"
   ],
   "cell_type": "markdown",
   "metadata": {}
  },
  {
   "source": [
    "* Función f(x)"
   ],
   "cell_type": "markdown",
   "metadata": {}
  },
  {
   "cell_type": "code",
   "execution_count": 117,
   "metadata": {},
   "outputs": [],
   "source": [
    "a = np.array((1,1,1,1))\n",
    "b = np.array((1,0,1,0))\n",
    "x,y = 1,-2"
   ]
  },
  {
   "cell_type": "code",
   "execution_count": 118,
   "metadata": {},
   "outputs": [
    {
     "output_type": "execute_result",
     "data": {
      "text/plain": [
       "array([-1,  1, -1,  1])"
      ]
     },
     "metadata": {},
     "execution_count": 118
    }
   ],
   "source": [
    "x*a + y*b"
   ]
  },
  {
   "cell_type": "code",
   "execution_count": 119,
   "metadata": {},
   "outputs": [
    {
     "output_type": "stream",
     "name": "stdout",
     "text": [
      "f(x*a +y*b) =  0\n"
     ]
    }
   ],
   "source": [
    "print('f(x*a +y*b) = ', f(x*a + y*b))"
   ]
  },
  {
   "cell_type": "code",
   "execution_count": 120,
   "metadata": {},
   "outputs": [
    {
     "output_type": "stream",
     "name": "stdout",
     "text": [
      "x*f(a) +y*f(b) =  0\n"
     ]
    }
   ],
   "source": [
    "print('x*f(a) +y*f(b) = ', x*f(a)+y*f(b))"
   ]
  },
  {
   "source": [
    "* Función g(x)"
   ],
   "cell_type": "markdown",
   "metadata": {}
  },
  {
   "cell_type": "code",
   "execution_count": 121,
   "metadata": {},
   "outputs": [
    {
     "output_type": "stream",
     "name": "stdout",
     "text": [
      "g(x*a +y*b) =  -1\n"
     ]
    }
   ],
   "source": [
    "print('g(x*a +y*b) = ', g(x*a + y*b))"
   ]
  },
  {
   "cell_type": "code",
   "execution_count": 122,
   "metadata": {},
   "outputs": [
    {
     "output_type": "stream",
     "name": "stdout",
     "text": [
      "x*g(a) +y*g(b) =  -1\n"
     ]
    }
   ],
   "source": [
    "print('x*g(a) +y*g(b) = ', x*g(a)+y*g(b))"
   ]
  },
  {
   "source": [
    "## Teorema de funciones lineales"
   ],
   "cell_type": "markdown",
   "metadata": {}
  },
  {
   "cell_type": "code",
   "execution_count": 123,
   "metadata": {},
   "outputs": [],
   "source": [
    "def MAX(x):\n",
    "    return np.max(x)"
   ]
  },
  {
   "cell_type": "code",
   "execution_count": 124,
   "metadata": {},
   "outputs": [
    {
     "output_type": "stream",
     "name": "stdout",
     "text": [
      "MAX([1,0,2]) =  2\n"
     ]
    }
   ],
   "source": [
    "print('MAX([1,0,2]) = ', MAX(np.array((1,0,2))))"
   ]
  },
  {
   "cell_type": "code",
   "execution_count": 125,
   "metadata": {},
   "outputs": [],
   "source": [
    "x = np.array((1,-1))\n",
    "y = np.array((-1,1))\n",
    "a = b = 1/2"
   ]
  },
  {
   "cell_type": "code",
   "execution_count": 126,
   "metadata": {},
   "outputs": [
    {
     "output_type": "stream",
     "name": "stdout",
     "text": [
      "MAX(a*x + b*y) =  0.0\n"
     ]
    }
   ],
   "source": [
    "print('MAX(a*x + b*y) = ', MAX(a*x + b*y))"
   ]
  },
  {
   "cell_type": "code",
   "execution_count": 127,
   "metadata": {},
   "outputs": [
    {
     "output_type": "stream",
     "name": "stdout",
     "text": [
      "a*MAX(Z) + b*MAX(y) =  1.0\n"
     ]
    }
   ],
   "source": [
    "print('a*MAX(Z) + b*MAX(y) = ', a*MAX(x) + b*MAX(y))"
   ]
  },
  {
   "source": [
    "## Ejercicio: Determina si las siguientes funciones son lineales o no"
   ],
   "cell_type": "markdown",
   "metadata": {}
  },
  {
   "source": [
    "* $f(\\mathbf{x}) = x_{n-1} - x_{0}$\n",
    "\n",
    "* Si $\\mathbf{x}\\in\\mathbb{R}^{4}$ y $f:\\mathbb{R}^{4} \\to \\mathbb{R}$ definida como $f(\\mathbf{x})=x_{3}+(x_{3}-x_{2})$"
   ],
   "cell_type": "markdown",
   "metadata": {}
  },
  {
   "cell_type": "code",
   "execution_count": 149,
   "metadata": {},
   "outputs": [],
   "source": [
    "x = np.random.rand(np.random.randint(100))\n",
    "y = np.random.rand(x.size)\n",
    "a = 10\n",
    "b = 42\n",
    "\n",
    "def f1(vector):\n",
    "    return vector[-1] - vector[0]"
   ]
  },
  {
   "cell_type": "code",
   "execution_count": 150,
   "metadata": {},
   "outputs": [
    {
     "output_type": "stream",
     "name": "stdout",
     "text": [
      "Function(a*x + b*y) =  12.07195451035642\na*Function(x) + b*Function(y) =  12.071954510356413\n"
     ]
    }
   ],
   "source": [
    "print('Function(a*x + b*y) = ', f1(a*x + b*y))\n",
    "print('a*Function(x) + b*Function(y) = ', a*f1(x) + b*f1(y))\n",
    "# La función es lineal"
   ]
  },
  {
   "cell_type": "code",
   "execution_count": 151,
   "metadata": {},
   "outputs": [],
   "source": [
    "x = np.random.rand(4)\n",
    "y = np.random.rand(4)\n",
    "a = np.random.randint(100)\n",
    "b = np.random.randint(100)\n",
    "\n",
    "def f2(vector):\n",
    "    return vector[2] + (vector[2]-vector[1])"
   ]
  },
  {
   "cell_type": "code",
   "execution_count": 152,
   "metadata": {},
   "outputs": [
    {
     "output_type": "stream",
     "name": "stdout",
     "text": [
      "Function(a*x + b*y) =  63.17517839159804\na*Function(x) + b*Function(y) =  63.17517839159803\n"
     ]
    }
   ],
   "source": [
    "print('Function(a*x + b*y) = ', f2(a*x + b*y))\n",
    "print('a*Function(x) + b*Function(y) = ', a*f2(x) + b*f2(y))\n",
    "# La función es lineal"
   ]
  },
  {
   "cell_type": "code",
   "execution_count": null,
   "metadata": {},
   "outputs": [],
   "source": []
  },
  {
   "source": [
    "## Problema: Potencia en un clúster de procesadores y temperatura"
   ],
   "cell_type": "markdown",
   "metadata": {}
  },
  {
   "cell_type": "code",
   "execution_count": 132,
   "metadata": {},
   "outputs": [],
   "source": [
    "# Datos\n",
    "P1 = np.array([10,10,10])\n",
    "P2 = np.array([100,10,10])\n",
    "P3 = np.array([10,100,10])\n",
    "P4 = np.array([10,10,100])\n",
    "T1 = 35\n",
    "T2 = 60\n",
    "T3 = 75\n",
    "T4 = 65"
   ]
  },
  {
   "cell_type": "code",
   "execution_count": 133,
   "metadata": {},
   "outputs": [],
   "source": [
    "# Sitema de ecuaciones lineales mediante matrices\n",
    "# P matriz de coeficientes, 3 primeros números vector a y ultimo número valor del bias b\n",
    "\n",
    "P = np.array(\n",
    "[[10, 10, 10, 1],\n",
    "[100,10,10, 1],\n",
    "[10,100,10, 1],\n",
    "[10, 10, 100, 1]])\n",
    "T = np.array([T1, T2,T3, T4])"
   ]
  },
  {
   "cell_type": "code",
   "execution_count": 134,
   "metadata": {},
   "outputs": [
    {
     "output_type": "execute_result",
     "data": {
      "text/plain": [
       "(array([0.27777778, 0.44444444, 0.33333333]), 24.444444444444443)"
      ]
     },
     "metadata": {},
     "execution_count": 134
    }
   ],
   "source": [
    "a = np.linalg.solve(P,T)[0:3]\n",
    "b = np.linalg.solve(P,T)[3]\n",
    "a, b\n",
    "# (array([0.27777778, 0.44444444, 0.33333333]), 24.444444444444443)"
   ]
  },
  {
   "cell_type": "code",
   "execution_count": 135,
   "metadata": {},
   "outputs": [
    {
     "output_type": "execute_result",
     "data": {
      "text/plain": [
       "array([35., 60., 75., 65.])"
      ]
     },
     "metadata": {},
     "execution_count": 135
    }
   ],
   "source": [
    "def temperature(P):\n",
    "    return a.T@P+b\n",
    "T1_solution = temperature(P1)\n",
    "T2_solution = temperature(P2)\n",
    "T3_solution = temperature(P3)\n",
    "T4_solution = temperature(P4)\n",
    "\n",
    "T_solution = np.array((T1_solution,T2_solution,T3_solution,T4_solution))\n",
    "T_solution\n",
    "# array([35., 60., 75., 65.])"
   ]
  },
  {
   "cell_type": "code",
   "execution_count": 136,
   "metadata": {},
   "outputs": [
    {
     "output_type": "execute_result",
     "data": {
      "text/plain": [
       "array([ 0.27777778,  0.44444444,  0.33333333, 24.44444444])"
      ]
     },
     "metadata": {},
     "execution_count": 136
    }
   ],
   "source": [
    "# Solución mediante lstsq\n",
    "np.linalg.lstsq(P,T,rcond=None)[0]\n",
    "# array([ 0.27777778,  0.44444444,  0.33333333, 24.44444444])"
   ]
  },
  {
   "source": [
    "* Temperatura máxima"
   ],
   "cell_type": "markdown",
   "metadata": {}
  },
  {
   "cell_type": "code",
   "execution_count": 137,
   "metadata": {},
   "outputs": [
    {
     "output_type": "execute_result",
     "data": {
      "text/plain": [
       "130.0"
      ]
     },
     "metadata": {},
     "execution_count": 137
    }
   ],
   "source": [
    "# Temperatura a máxima potencia\n",
    "T_máxima = temperature([100,100,100])\n",
    "T_máxima\n",
    "# 130.0"
   ]
  },
  {
   "cell_type": "code",
   "execution_count": 138,
   "metadata": {},
   "outputs": [],
   "source": [
    "# La temperatua máxima que se puede alcanzar es de 130"
   ]
  },
  {
   "source": [
    "* Potencia para que los procesadores alcancen una temperatura de 150"
   ],
   "cell_type": "markdown",
   "metadata": {}
  },
  {
   "cell_type": "code",
   "execution_count": 139,
   "metadata": {},
   "outputs": [],
   "source": [
    "from sklearn.linear_model import LinearRegression\n",
    "model = LinearRegression()"
   ]
  },
  {
   "cell_type": "code",
   "execution_count": 140,
   "metadata": {},
   "outputs": [],
   "source": [
    "T = T.reshape(-1,1)"
   ]
  },
  {
   "cell_type": "code",
   "execution_count": 141,
   "metadata": {},
   "outputs": [
    {
     "output_type": "execute_result",
     "data": {
      "text/plain": [
       "LinearRegression()"
      ]
     },
     "metadata": {},
     "execution_count": 141
    }
   ],
   "source": [
    "model.fit(T,P)"
   ]
  },
  {
   "cell_type": "code",
   "execution_count": 142,
   "metadata": {},
   "outputs": [
    {
     "output_type": "stream",
     "name": "stdout",
     "text": [
      "coeff:  [0.1294964] [1.68345324] [0.64748201] [0.]\nintercept:  [ 24.89208633 -66.4028777   -5.53956835   1.        ]\n"
     ]
    }
   ],
   "source": [
    "print(\"coeff: \", *model.coef_)\n",
    "print(\"intercept: \", model.intercept_)\n",
    "# coeff:  [0.1294964] [1.68345324] [0.64748201] [0.]\n",
    "# intercept:  [ 24.89208633 -66.4028777   -5.53956835   1.        ]\n",
    "\n",
    "# Pares x + b, para cada una de las 4 salidas"
   ]
  },
  {
   "cell_type": "code",
   "execution_count": 143,
   "metadata": {},
   "outputs": [
    {
     "output_type": "execute_result",
     "data": {
      "text/plain": [
       "array([ 44.31654676, 186.11510791,  91.58273381])"
      ]
     },
     "metadata": {},
     "execution_count": 143
    }
   ],
   "source": [
    "P_150 = model.predict([[150]])[0][:-1]\n",
    "P_150 \n",
    "# array([ 44.31654676, 186.11510791,  91.58273381])"
   ]
  },
  {
   "cell_type": "code",
   "execution_count": 144,
   "metadata": {},
   "outputs": [
    {
     "output_type": "execute_result",
     "data": {
      "text/plain": [
       "150.0"
      ]
     },
     "metadata": {},
     "execution_count": 144
    }
   ],
   "source": [
    "# Comprobación de temperatura con el vector de la potencia encontrada de los procesadores\n",
    "T_150 = temperature(P_150)\n",
    "T_150"
   ]
  },
  {
   "source": [
    "* ¿Cuál es la potencia minima para alcanzar 150 de Temperatura?"
   ],
   "cell_type": "markdown",
   "metadata": {}
  },
  {
   "cell_type": "code",
   "execution_count": 145,
   "metadata": {},
   "outputs": [
    {
     "output_type": "stream",
     "name": "stdout",
     "text": [
      "118.94740000062899 150.00003333399727\n"
     ]
    }
   ],
   "source": [
    "P = 100\n",
    "T = temperature([P,P,P])\n",
    "\n",
    "while (T < 150):\n",
    "    tol = 0.0001\n",
    "    P += tol\n",
    "    T = temperature([P,P,P])\n",
    "print(P,T)\n",
    "# 118.94740000062899 150.00003333399727"
   ]
  },
  {
   "source": [
    "Solución mediante busqueda binaria"
   ],
   "cell_type": "markdown",
   "metadata": {}
  },
  {
   "cell_type": "code",
   "execution_count": 146,
   "metadata": {},
   "outputs": [
    {
     "output_type": "stream",
     "name": "stdout",
     "text": [
      "[118.94741058 118.94741058 118.94741058] 150.00004450480142\n"
     ]
    }
   ],
   "source": [
    "tol = 0.0001\n",
    "min_P = 100\n",
    "max_P = 125\n",
    "\n",
    "P = np.array([min_P,min_P,min_P])\n",
    "\n",
    "while (abs(temperature(P) - 150) > tol):\n",
    "\n",
    "    avg_P = np.mean([min_P,max_P])\n",
    "    P = np.array([avg_P,avg_P,avg_P])\n",
    "    T = temperature(P)\n",
    "\n",
    "    if T > 150:\n",
    "        max_P =  avg_P\n",
    "    else:\n",
    "        min_P =  avg_P\n",
    "\n",
    "print(P,T)\n",
    "\n",
    "# [118.94683838 118.94683838 118.94683838] 149.9994405110677"
   ]
  },
  {
   "cell_type": "code",
   "execution_count": null,
   "metadata": {},
   "outputs": [],
   "source": []
  }
 ]
}