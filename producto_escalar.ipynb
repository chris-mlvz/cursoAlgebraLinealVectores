{
 "metadata": {
  "language_info": {
   "codemirror_mode": {
    "name": "ipython",
    "version": 3
   },
   "file_extension": ".py",
   "mimetype": "text/x-python",
   "name": "python",
   "nbconvert_exporter": "python",
   "pygments_lexer": "ipython3",
   "version": "3.8.8"
  },
  "orig_nbformat": 2,
  "kernelspec": {
   "name": "python388jvsc74a57bd0c72a629dba5ae9edebcad565c17c3988d814021371aabb3db62cb04d2b10dbfe",
   "display_name": "Python 3.8.8 64-bit ('base': conda)"
  }
 },
 "nbformat": 4,
 "nbformat_minor": 2,
 "cells": [
  {
   "source": [
    "# Producto por un escalar-vector"
   ],
   "cell_type": "markdown",
   "metadata": {}
  },
  {
   "source": [
    "Partamos del vector $\\vec{x}= (1,-1,1)$ y del escalar $a = 3.1$ entonces, realicemos las operaciones $a\\vec{x}$ y $\\vec{x}a$"
   ],
   "cell_type": "markdown",
   "metadata": {}
  },
  {
   "cell_type": "code",
   "execution_count": 209,
   "metadata": {},
   "outputs": [],
   "source": [
    "import numpy as np #primero importamos numpy"
   ]
  },
  {
   "cell_type": "code",
   "execution_count": 210,
   "metadata": {},
   "outputs": [],
   "source": [
    "x = np.array([1,-1,1]) #declaramos el vector x\n",
    "\n",
    "a = 3.1 #declaramos el escalar a"
   ]
  },
  {
   "cell_type": "code",
   "execution_count": 211,
   "metadata": {},
   "outputs": [
    {
     "output_type": "stream",
     "name": "stdout",
     "text": [
      "ax es [ 3.1 -3.1  3.1]\n"
     ]
    }
   ],
   "source": [
    "print('ax es',a*x)"
   ]
  },
  {
   "cell_type": "code",
   "execution_count": 212,
   "metadata": {},
   "outputs": [
    {
     "output_type": "stream",
     "name": "stdout",
     "text": [
      "xa es [ 3.1 -3.1  3.1]\n"
     ]
    }
   ],
   "source": [
    "print('xa es',x*a)"
   ]
  },
  {
   "cell_type": "code",
   "execution_count": 213,
   "metadata": {},
   "outputs": [
    {
     "output_type": "execute_result",
     "data": {
      "text/plain": [
       "(-3.1, 0.0)"
      ]
     },
     "metadata": {},
     "execution_count": 213
    }
   ],
   "source": [
    "b = -a\n",
    "b, b+a"
   ]
  },
  {
   "cell_type": "code",
   "execution_count": 214,
   "metadata": {},
   "outputs": [
    {
     "output_type": "stream",
     "name": "stdout",
     "text": [
      "(b+a)x es [ 0. -0.  0.]\n"
     ]
    }
   ],
   "source": [
    "print('(b+a)x es',(b+a)*x)"
   ]
  },
  {
   "cell_type": "code",
   "execution_count": 215,
   "metadata": {},
   "outputs": [
    {
     "output_type": "stream",
     "name": "stdout",
     "text": [
      "xa+xb es [0. 0. 0.]\n"
     ]
    }
   ],
   "source": [
    "print('xa+xb es',b*x+ x*a)"
   ]
  },
  {
   "source": [
    "Ahora un ejecio más $\\vec{v} = (1,1)$. Si consideramos a = -1, b = 2, c = 0.1"
   ],
   "cell_type": "markdown",
   "metadata": {}
  },
  {
   "cell_type": "code",
   "execution_count": 216,
   "metadata": {},
   "outputs": [],
   "source": [
    "v = np.array([1,1])\n",
    "a = -1\n",
    "b = 2\n",
    "c = 0.1"
   ]
  },
  {
   "cell_type": "code",
   "execution_count": 217,
   "metadata": {},
   "outputs": [
    {
     "output_type": "execute_result",
     "data": {
      "text/plain": [
       "array([-1, -1])"
      ]
     },
     "metadata": {},
     "execution_count": 217
    }
   ],
   "source": [
    "v*a"
   ]
  },
  {
   "cell_type": "code",
   "execution_count": 218,
   "metadata": {},
   "outputs": [
    {
     "output_type": "execute_result",
     "data": {
      "text/plain": [
       "array([2, 2])"
      ]
     },
     "metadata": {},
     "execution_count": 218
    }
   ],
   "source": [
    "v*b"
   ]
  },
  {
   "cell_type": "code",
   "execution_count": 219,
   "metadata": {},
   "outputs": [
    {
     "output_type": "execute_result",
     "data": {
      "text/plain": [
       "array([0.1, 0.1])"
      ]
     },
     "metadata": {},
     "execution_count": 219
    }
   ],
   "source": [
    "v*c"
   ]
  },
  {
   "source": [
    "# Ejercicios"
   ],
   "cell_type": "markdown",
   "metadata": {}
  },
  {
   "source": [
    "**Problema 1**. Escribe TODOS los vectores unitarios estándar de $\\mathbb{R}^{4}$. *Hint:* son cuatro. "
   ],
   "cell_type": "markdown",
   "metadata": {}
  },
  {
   "cell_type": "code",
   "execution_count": 220,
   "metadata": {},
   "outputs": [],
   "source": [
    "def unit_vectors(dimensions):\n",
    "    for i in range(dimensions):\n",
    "        vector = np.zeros(dimensions)\n",
    "        vector[i] = 1\n",
    "        print(vector)\n",
    "        "
   ]
  },
  {
   "cell_type": "code",
   "execution_count": 221,
   "metadata": {},
   "outputs": [
    {
     "output_type": "stream",
     "name": "stdout",
     "text": [
      "[1. 0. 0. 0.]\n",
      "[0. 1. 0. 0.]\n",
      "[0. 0. 1. 0.]\n",
      "[0. 0. 0. 1.]\n"
     ]
    }
   ],
   "source": [
    "unit_vectors(4)"
   ]
  },
  {
   "source": [
    "**Problema 2**. Escribe tres combinaciones lineales de vectores en $\\mathbb{R}^{3}$ para expresar el vector $[1,1,1]$."
   ],
   "cell_type": "markdown",
   "metadata": {}
  },
  {
   "cell_type": "code",
   "execution_count": 222,
   "metadata": {},
   "outputs": [],
   "source": [
    "def combinacion_lineal(escalares, vectores):\n",
    "    return sum((escalares[i]*vector for i, vector in enumerate(vectores)))"
   ]
  },
  {
   "cell_type": "code",
   "execution_count": 223,
   "metadata": {},
   "outputs": [],
   "source": [
    "escalar1 = np.array((1,1,1))\n",
    "vectores1 = np.array(((1,0,0),(0,1,0),(0,0,1)))\n",
    "escalar2 = np.array((-1,1,1))\n",
    "vectores2 = np.array(((1,1,1),(1,1,1),(1,1,1)))\n",
    "escalar3 = np.array((1,0,1))\n",
    "vectores3 = np.array(((1/2,1/2,1/2),(0,0,0),(1/2,1/2,1/2)))"
   ]
  },
  {
   "cell_type": "code",
   "execution_count": 224,
   "metadata": {},
   "outputs": [
    {
     "output_type": "stream",
     "name": "stdout",
     "text": [
      "[1 1 1]\n[1 1 1]\n[1. 1. 1.]\n"
     ]
    }
   ],
   "source": [
    "print(combinacion_lineal(escalar1,vectores1))\n",
    "print(combinacion_lineal(escalar2,vectores2))\n",
    "print(combinacion_lineal(escalar3,vectores3))"
   ]
  },
  {
   "source": [
    "Problema 3. Escribe tres combinaciones afines con vectores de  R3  donde  β0≠β1≠β2  pero que se cumpla que  β0+β1+β2=1 . HINT: Si no se te ocurre ninguna combinación para los coeficientes la ecuación  β0+β1+β2=1  tiene infinitas soluciones, puedes hacer un programa para encontrar tres."
   ],
   "cell_type": "markdown",
   "metadata": {}
  },
  {
   "cell_type": "code",
   "execution_count": 225,
   "metadata": {},
   "outputs": [],
   "source": [
    "a = np.linspace(0,1,3)"
   ]
  },
  {
   "cell_type": "code",
   "execution_count": 226,
   "metadata": {},
   "outputs": [],
   "source": [
    "def coefs_sum1(size):\n",
    "    coefs = np.random.rand(size-1)\n",
    "    coefs = np.append(coefs, 1 - sum(coefs))\n",
    "    return coefs"
   ]
  },
  {
   "cell_type": "code",
   "execution_count": 227,
   "metadata": {},
   "outputs": [
    {
     "output_type": "stream",
     "name": "stdout",
     "text": [
      "[ 0.55670321  0.79993337 -0.35663657]\n[ 0.25086611  0.81434704 -0.06521315]\n[0.10531569 0.17894955 0.71573477]\n"
     ]
    }
   ],
   "source": [
    "print(coefs_sum1(3))\n",
    "print(coefs_sum1(3))\n",
    "print(coefs_sum1(3))"
   ]
  },
  {
   "cell_type": "code",
   "execution_count": null,
   "metadata": {},
   "outputs": [],
   "source": []
  }
 ]
}