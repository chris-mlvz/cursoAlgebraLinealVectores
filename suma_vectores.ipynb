{
 "metadata": {
  "language_info": {
   "codemirror_mode": {
    "name": "ipython",
    "version": 3
   },
   "file_extension": ".py",
   "mimetype": "text/x-python",
   "name": "python",
   "nbconvert_exporter": "python",
   "pygments_lexer": "ipython3",
   "version": "3.8.8"
  },
  "orig_nbformat": 2,
  "kernelspec": {
   "name": "python388jvsc74a57bd0c72a629dba5ae9edebcad565c17c3988d814021371aabb3db62cb04d2b10dbfe",
   "display_name": "Python 3.8.8 64-bit ('base': conda)"
  }
 },
 "nbformat": 4,
 "nbformat_minor": 2,
 "cells": [
  {
   "source": [
    "# Suma vectores en Python"
   ],
   "cell_type": "markdown",
   "metadata": {}
  },
  {
   "cell_type": "code",
   "execution_count": 2,
   "metadata": {},
   "outputs": [],
   "source": [
    "rojo = [255,0,0]\n",
    "negro = [0,0,0]"
   ]
  },
  {
   "cell_type": "code",
   "execution_count": 4,
   "metadata": {},
   "outputs": [
    {
     "output_type": "stream",
     "name": "stdout",
     "text": [
      "rojo + negro resulta en [255, 0, 0, 0, 0, 0]\n"
     ]
    }
   ],
   "source": [
    "print(f'rojo + negro resulta en {rojo+negro}')"
   ]
  },
  {
   "source": [
    "## Suma de vectores con listas"
   ],
   "cell_type": "markdown",
   "metadata": {}
  },
  {
   "cell_type": "code",
   "execution_count": 5,
   "metadata": {},
   "outputs": [],
   "source": [
    "def suma_vectores(a,b):\n",
    "    return [i+j for i,j in zip(a,b)]"
   ]
  },
  {
   "cell_type": "code",
   "execution_count": 6,
   "metadata": {},
   "outputs": [
    {
     "output_type": "stream",
     "name": "stdout",
     "text": [
      "suma_vectores(rojo,negro) nos devuelve [255, 0, 0]\n"
     ]
    }
   ],
   "source": [
    "print('suma_vectores(rojo,negro) nos devuelve',suma_vectores(rojo,negro))"
   ]
  },
  {
   "cell_type": "code",
   "execution_count": 7,
   "metadata": {},
   "outputs": [
    {
     "output_type": "stream",
     "name": "stdout",
     "text": [
      "suma_vectores(verde,negro) nos devuelve [0, 255, 0]\n"
     ]
    }
   ],
   "source": [
    "print('suma_vectores(verde,negro) nos devuelve',suma_vectores([0,255,0],negro))"
   ]
  },
  {
   "source": [
    "## Uso de nummpy"
   ],
   "cell_type": "markdown",
   "metadata": {}
  },
  {
   "cell_type": "code",
   "execution_count": 9,
   "metadata": {},
   "outputs": [],
   "source": [
    "import numpy as np"
   ]
  },
  {
   "cell_type": "code",
   "execution_count": 10,
   "metadata": {},
   "outputs": [],
   "source": [
    "rojo = np.array(rojo)\n",
    "negro = np.array(negro)"
   ]
  },
  {
   "cell_type": "code",
   "execution_count": 11,
   "metadata": {},
   "outputs": [
    {
     "output_type": "stream",
     "name": "stdout",
     "text": [
      "<class 'numpy.ndarray'>\n"
     ]
    }
   ],
   "source": [
    "print(type(rojo))"
   ]
  },
  {
   "cell_type": "code",
   "execution_count": 12,
   "metadata": {},
   "outputs": [
    {
     "output_type": "stream",
     "name": "stdout",
     "text": [
      "La suma de los numpy array rojo + negro es [255   0   0]\n"
     ]
    }
   ],
   "source": [
    "print('La suma de los numpy array rojo + negro es', rojo+negro)"
   ]
  },
  {
   "cell_type": "code",
   "execution_count": 13,
   "metadata": {},
   "outputs": [],
   "source": [
    "a = np.array([1,2,3,4,5]) #declaramos el arreglo/vector a\n",
    "\n",
    "b = np.array([-1,-2,-3,-4,5]) #declaramos el arreglo/vector b"
   ]
  },
  {
   "cell_type": "code",
   "execution_count": 14,
   "metadata": {},
   "outputs": [],
   "source": [
    "c = a+b"
   ]
  },
  {
   "cell_type": "code",
   "execution_count": 15,
   "metadata": {},
   "outputs": [
    {
     "output_type": "stream",
     "name": "stdout",
     "text": [
      "La el vector c = a+b = [ 0  0  0  0 10]\n"
     ]
    }
   ],
   "source": [
    "print('La el vector c = a+b =',c)"
   ]
  },
  {
   "source": [
    "# Problema"
   ],
   "cell_type": "markdown",
   "metadata": {}
  },
  {
   "source": [
    "Puedes ir al sitio [siguiente sitio](https://www.w3schools.com/colors/colors_rgb.asp), el sitio te permite introducir un vector del modelo RGB y te muestra el color al que corresponde.  \n",
    " \n",
    "Ahora, primer confirma a qué color corresponden el vector $\\vec{a} = [0,0,255]$ y así responde:\n",
    "* ¿Qué color obtienes si sumas $\\vec{rojo}+\\vec{verde}+\\vec{a}$? \n",
    "* ¿Qué color obtienes sumando $\\vec{rojo}+\\vec{verde}$?\n",
    "* ¿Qué color obtienes sumando $\\vec{negro}-\\vec{a}$? ¿Tiene sentido este resultado dentro del modelo aditivo RGB?\n"
   ],
   "cell_type": "markdown",
   "metadata": {}
  },
  {
   "cell_type": "code",
   "execution_count": 16,
   "metadata": {},
   "outputs": [],
   "source": [
    "a = np.array((0,0,255))\n",
    "rojo = np.array((255,0,0))\n",
    "verde = np.array((0,255,0))\n",
    "negro = np.array((0,0,0))"
   ]
  },
  {
   "source": [
    " $\\vec{rojo}+\\vec{verde}+\\vec{a}$? "
   ],
   "cell_type": "markdown",
   "metadata": {}
  },
  {
   "cell_type": "code",
   "execution_count": 17,
   "metadata": {},
   "outputs": [
    {
     "output_type": "execute_result",
     "data": {
      "text/plain": [
       "array([255, 255, 255])"
      ]
     },
     "metadata": {},
     "execution_count": 17
    }
   ],
   "source": [
    "rojo + verde + a #Color blanco"
   ]
  },
  {
   "source": [
    "$\\vec{rojo}+\\vec{verde}$?"
   ],
   "cell_type": "markdown",
   "metadata": {}
  },
  {
   "cell_type": "code",
   "execution_count": 18,
   "metadata": {},
   "outputs": [
    {
     "output_type": "execute_result",
     "data": {
      "text/plain": [
       "array([255, 255,   0])"
      ]
     },
     "metadata": {},
     "execution_count": 18
    }
   ],
   "source": [
    "rojo + verde #Color Amarillo"
   ]
  },
  {
   "source": [
    "$\\vec{negro}-\\vec{a}$?"
   ],
   "cell_type": "markdown",
   "metadata": {}
  },
  {
   "cell_type": "code",
   "execution_count": 19,
   "metadata": {},
   "outputs": [
    {
     "output_type": "execute_result",
     "data": {
      "text/plain": [
       "array([   0,    0, -255])"
      ]
     },
     "metadata": {},
     "execution_count": 19
    }
   ],
   "source": [
    "negro - a #Sin sentido"
   ]
  }
 ]
}