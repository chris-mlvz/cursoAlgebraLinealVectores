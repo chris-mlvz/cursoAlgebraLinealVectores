{
 "metadata": {
  "language_info": {
   "codemirror_mode": {
    "name": "ipython",
    "version": 3
   },
   "file_extension": ".py",
   "mimetype": "text/x-python",
   "name": "python",
   "nbconvert_exporter": "python",
   "pygments_lexer": "ipython3",
   "version": "3.8.8"
  },
  "orig_nbformat": 2,
  "kernelspec": {
   "name": "python388jvsc74a57bd0c72a629dba5ae9edebcad565c17c3988d814021371aabb3db62cb04d2b10dbfe",
   "display_name": "Python 3.8.8 64-bit ('base': conda)"
  }
 },
 "nbformat": 4,
 "nbformat_minor": 2,
 "cells": [
  {
   "source": [
    "# Producto interno (escalar o punto)"
   ],
   "cell_type": "markdown",
   "metadata": {}
  },
  {
   "cell_type": "code",
   "execution_count": 114,
   "metadata": {},
   "outputs": [],
   "source": [
    "import numpy as np"
   ]
  },
  {
   "cell_type": "code",
   "execution_count": 115,
   "metadata": {},
   "outputs": [],
   "source": [
    "a = np.array([1,0,0,0]) #declaramos el vector e_1\n",
    "\n",
    "b = np.array([0,0,1,0]) #declaramos el vector e_2"
   ]
  },
  {
   "cell_type": "code",
   "execution_count": 116,
   "metadata": {},
   "outputs": [
    {
     "output_type": "stream",
     "name": "stdout",
     "text": [
      "<a,b> = 0\n"
     ]
    }
   ],
   "source": [
    "print('<a,b> =',np.dot(a,b))"
   ]
  },
  {
   "cell_type": "code",
   "execution_count": 117,
   "metadata": {},
   "outputs": [
    {
     "output_type": "stream",
     "name": "stdout",
     "text": [
      "<a,b> = 0\n"
     ]
    }
   ],
   "source": [
    "print('<a,b> =',a.T@b)"
   ]
  },
  {
   "source": [
    "## Evaluación de poliomios"
   ],
   "cell_type": "markdown",
   "metadata": {}
  },
  {
   "cell_type": "code",
   "execution_count": 98,
   "metadata": {},
   "outputs": [],
   "source": [
    "def p(x):\n",
    "    return np.array([1,2])@np.array([1,x])"
   ]
  },
  {
   "cell_type": "code",
   "execution_count": 99,
   "metadata": {},
   "outputs": [
    {
     "output_type": "stream",
     "name": "stdout",
     "text": [
      "p(0) =  1\np(1) =  3\np(2) =  5\n"
     ]
    }
   ],
   "source": [
    "print('p(0) = ',p(0))\n",
    "print('p(1) = ',p(1))\n",
    "print('p(2) = ',p(2))"
   ]
  },
  {
   "source": [
    "# Ejercicios"
   ],
   "cell_type": "markdown",
   "metadata": {}
  },
  {
   "source": [
    "## Problema 1: Análisis de sentimiento de tweets"
   ],
   "cell_type": "markdown",
   "metadata": {}
  },
  {
   "cell_type": "code",
   "execution_count": 100,
   "metadata": {},
   "outputs": [],
   "source": [
    "# Tweets\n",
    "A = \"Gran mexicano y excelente en su área, su muerte es una enorme perdida y debería ser luto nacional!!!\"\n",
    "B = \"Vaya señora que bueno que se asesora por alguien inteligente no por el ignorante del Gatt.\"\n",
    "C = \"Se me ocurre y sin ver todos los videos de Plazti que me informéis por dónde empiezo. Entiendo que os tendría que decir quién soy y que quiero, vamos conocerme para asesorarme bien. Un saludo\"\n",
    "D = \"Soy docente universitario, estoy intentando preparar mis clases en modo platzi bien didáctico, (le llamo modo noticiero), descargue una plataforma gratuita de grabación y transmisión de vídeo, se llama Obs estudio!bueno la sigo remando con sus funciones pero sé que saldrá algo!\"\n",
    "TWEETS = (A,B,C,D)"
   ]
  },
  {
   "cell_type": "code",
   "execution_count": 101,
   "metadata": {},
   "outputs": [],
   "source": [
    "def normalize_tweets(tweets: tuple) -> list:\n",
    "    list_tweets = []\n",
    "    for tweet in tweets:\n",
    "        for i in \"!().,\":\n",
    "            tweet = tweet.replace(i,\"\")\n",
    "            tweet = tweet.lower()\n",
    "        list_tweet = tweet.split()\n",
    "        list_tweets.append(list_tweet)\n",
    "    return list_tweets"
   ]
  },
  {
   "cell_type": "code",
   "execution_count": 102,
   "metadata": {},
   "outputs": [],
   "source": [
    "list_tweets = normalize_tweets(TWEETS)"
   ]
  },
  {
   "cell_type": "code",
   "execution_count": 103,
   "metadata": {},
   "outputs": [],
   "source": [
    "from collections import Counter"
   ]
  },
  {
   "cell_type": "code",
   "execution_count": 104,
   "metadata": {},
   "outputs": [],
   "source": [
    "WORDS_PST = (\"excelente\",\"gran\",\"quiero\",\"positivo\",'bien','positivo','bueno','inteligente')\n",
    "WORDS_NGT = (\"perdida\",'aprender','estudio','platzi')\n",
    "WORDS_NTR = (\"muerte\",\"luto\",'ignorante')\n",
    "WORDS = WORDS_PST + WORDS_NGT + WORDS_NTR"
   ]
  },
  {
   "cell_type": "code",
   "execution_count": 112,
   "metadata": {},
   "outputs": [
    {
     "output_type": "error",
     "ename": "SyntaxError",
     "evalue": "invalid syntax (<ipython-input-112-50d1d5951f8b>, line 12)",
     "traceback": [
      "\u001b[1;36m  File \u001b[1;32m\"<ipython-input-112-50d1d5951f8b>\"\u001b[1;36m, line \u001b[1;32m12\u001b[0m\n\u001b[1;33m    return count_words_list\u001b[0m\n\u001b[1;37m    ^\u001b[0m\n\u001b[1;31mSyntaxError\u001b[0m\u001b[1;31m:\u001b[0m invalid syntax\n"
     ]
    }
   ],
   "source": [
    "def counting_words(words: tuple, list_tweets: list) -> list:\n",
    "    count_words_list = []\n",
    "\n",
    "    for i in list_tweets:\n",
    "        select_dict = {}\n",
    "        words_dict = Counter(i)\n",
    "\n",
    "        for word in words:\n",
    "            select_dict[word] = words_dict.get(word,0)\n",
    "            count_words_list.append(list(select_dict.values())\n",
    "\n",
    "    return count_words_list\n"
   ]
  },
  {
   "cell_type": "code",
   "execution_count": 113,
   "metadata": {},
   "outputs": [
    {
     "output_type": "stream",
     "name": "stdout",
     "text": [
      "[1, 1, 0, 0, 0, 0, 0, 1, 0, 0, 0, 1, 1, 0]\n[0, 0, 0, 0, 0, 1, 1, 0, 0, 0, 0, 0, 0, 1]\n[0, 0, 1, 0, 1, 0, 0, 0, 0, 0, 0, 0, 0, 0]\n[0, 0, 0, 0, 1, 0, 0, 0, 0, 0, 1, 0, 0, 0]\n"
     ]
    }
   ],
   "source": [
    "counting_words(WORDS, list_tweets)"
   ]
  },
  {
   "cell_type": "code",
   "execution_count": null,
   "metadata": {},
   "outputs": [],
   "source": []
  }
 ]
}