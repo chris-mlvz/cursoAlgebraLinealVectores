{
 "metadata": {
  "language_info": {
   "codemirror_mode": {
    "name": "ipython",
    "version": 3
   },
   "file_extension": ".py",
   "mimetype": "text/x-python",
   "name": "python",
   "nbconvert_exporter": "python",
   "pygments_lexer": "ipython3",
   "version": "3.8.8"
  },
  "orig_nbformat": 2,
  "kernelspec": {
   "name": "python388jvsc74a57bd0c72a629dba5ae9edebcad565c17c3988d814021371aabb3db62cb04d2b10dbfe",
   "display_name": "Python 3.8.8 64-bit ('base': conda)"
  }
 },
 "nbformat": 4,
 "nbformat_minor": 2,
 "cells": [
  {
   "source": [
    "# Vectores y Escalares"
   ],
   "cell_type": "markdown",
   "metadata": {}
  },
  {
   "source": [
    "## Ejemplo : Colores RGB"
   ],
   "cell_type": "markdown",
   "metadata": {}
  },
  {
   "cell_type": "code",
   "execution_count": 2,
   "metadata": {},
   "outputs": [],
   "source": [
    "rojo = [255,0,0]\n",
    "verde = [0,255,0] \n",
    "azul = [0,0,255]\n",
    "negro = [0,0,0]"
   ]
  },
  {
   "cell_type": "code",
   "execution_count": 7,
   "metadata": {},
   "outputs": [
    {
     "output_type": "stream",
     "name": "stdout",
     "text": [
      "El color rojo en el modelo RGB se puede representar por el vector: [255, 0, 0]\n"
     ]
    }
   ],
   "source": [
    "print(f'El color rojo en el modelo RGB se puede representar por el vector: {rojo}')"
   ]
  },
  {
   "cell_type": "code",
   "execution_count": 8,
   "metadata": {},
   "outputs": [
    {
     "output_type": "stream",
     "name": "stdout",
     "text": [
      "El color verde en el modelo RGB se puede representar por el vector: [0, 255, 0]\n"
     ]
    }
   ],
   "source": [
    "print(f'El color verde en el modelo RGB se puede representar por el vector: {verde}')"
   ]
  },
  {
   "cell_type": "code",
   "execution_count": 9,
   "metadata": {},
   "outputs": [
    {
     "output_type": "stream",
     "name": "stdout",
     "text": [
      "El color negro en el modelo RGB se puede representar por el vector: [0, 0, 0]\n"
     ]
    }
   ],
   "source": [
    "print(f'El color negro en el modelo RGB se puede representar por el vector: {negro}')"
   ]
  },
  {
   "source": [
    "## Dimension"
   ],
   "cell_type": "markdown",
   "metadata": {}
  },
  {
   "cell_type": "code",
   "execution_count": 13,
   "metadata": {},
   "outputs": [
    {
     "output_type": "stream",
     "name": "stdout",
     "text": [
      "La dimensión de un vector del modelo RGB es 3\n"
     ]
    }
   ],
   "source": [
    "print(f'La dimensión de un vector del modelo RGB es {len(verde)}')"
   ]
  },
  {
   "source": [
    "## Stack de vectores"
   ],
   "cell_type": "markdown",
   "metadata": {}
  },
  {
   "cell_type": "code",
   "execution_count": 16,
   "metadata": {},
   "outputs": [],
   "source": [
    "Rojo_y_Verde = rojo+verde"
   ]
  },
  {
   "cell_type": "code",
   "execution_count": 18,
   "metadata": {},
   "outputs": [
    {
     "output_type": "stream",
     "name": "stdout",
     "text": [
      "El vector resultante de concatenar los vectores rojo y verde es [255, 0, 0, 0, 255, 0]\n"
     ]
    }
   ],
   "source": [
    "print(f'El vector resultante de concatenar los vectores rojo y verde es {Rojo_y_Verde}')"
   ]
  },
  {
   "source": [
    "## Subvectores"
   ],
   "cell_type": "markdown",
   "metadata": {}
  },
  {
   "cell_type": "code",
   "execution_count": 20,
   "metadata": {},
   "outputs": [
    {
     "output_type": "stream",
     "name": "stdout",
     "text": [
      "El subvector del vector Rojo_y_Verde que corresponde al rojo es el vector que va del 0:3 [255, 0, 0]\n"
     ]
    }
   ],
   "source": [
    "print(f'El subvector del vector Rojo_y_Verde que corresponde al rojo es el vector que va del 0:3 {Rojo_y_Verde[0:3]}')"
   ]
  },
  {
   "cell_type": "code",
   "execution_count": 21,
   "metadata": {},
   "outputs": [
    {
     "output_type": "stream",
     "name": "stdout",
     "text": [
      "El subvector del vector Rojo_y_Verde que corresponde al verde es el vector que va del 3:6 [0, 255, 0]\n"
     ]
    }
   ],
   "source": [
    "print(f'El subvector del vector Rojo_y_Verde que corresponde al verde es el vector que va del 3:6 {Rojo_y_Verde[3:6]}')"
   ]
  },
  {
   "cell_type": "code",
   "execution_count": null,
   "metadata": {},
   "outputs": [],
   "source": []
  }
 ]
}